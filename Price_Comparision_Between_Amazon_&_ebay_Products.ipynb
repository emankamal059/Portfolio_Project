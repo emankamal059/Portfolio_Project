{
 "cells": [
  {
   "cell_type": "code",
   "execution_count": null,
   "id": "1740c0b7",
   "metadata": {},
   "outputs": [],
   "source": [
    "from bs4 import BeautifulSoup\n",
    "import requests\n",
    "\n",
    "import time \n",
    "import datetime\n",
    "\n",
    "import smtplib"
   ]
  },
  {
   "cell_type": "code",
   "execution_count": 4,
   "id": "540037d5",
   "metadata": {},
   "outputs": [],
   "source": [
    "from bs4 import BeautifulSoup\n",
    "import requests\n",
    "\n",
    "import time \n",
    "import datetime\n",
    "\n",
    "import smtplib"
   ]
  },
  {
   "cell_type": "code",
   "execution_count": 5,
   "id": "09018f6b",
   "metadata": {},
   "outputs": [
    {
     "name": "stdout",
     "output_type": "stream",
     "text": [
      " \u001b[1mProduct Title On Amazon:\u001b[0m  \n",
      "            SAMSUNG Galaxy S22 Ultra Cell Phone, Factory Unlocked Android Smartphone, 512GB, 8K Camera & Video, Brightest Display Screen, S Pen, Long Battery Life, Fast 4nm Processor, US Version, Phantom White\n",
      "           \n",
      "\u001b[1mPrice On Amazon:\u001b[0m \n",
      "                          1,259\n",
      "                          \n",
      "                           .\n",
      "                          \n",
      "\n",
      "\u001b[1mProduct Title On eBay:\u001b[0m \n",
      "\n",
      "\n",
      "\n",
      "\n",
      "\n",
      "              Samsung Galaxy S22 Ultra SM-S908B/DS 512gb ✅\n",
      "              \n",
      "\n",
      "\n",
      "\n",
      "\n",
      "\n",
      "\u001b[1mPrice On eBay:\u001b[0m \n",
      "\n",
      "                     US $1,369.47\n",
      "                     \n",
      "\n"
     ]
    }
   ],
   "source": [
    "ebay_URL='https://www.ebay.com/itm/234914529377?epid=27052277380&hash=item36b1ff4061%3Ag%3A6OEAAOSwIOpj%7ETp6&amdata=enc%3AAQAHAAAA8PJpJUpkOfUVBiLGNGnM%2FyXaGh6oWEz78Z4zgaByUybf%2FMD4pIqp8zFUc6%2BLAnfZh4pZS2Jk6ucQsOeXKIuOXkoyHK9Fcjl6DtYyZQ%2Bg07x9ytsQLRaC4X9xpys2tDvrkY3xaPOQje9Y7JQxij6x7N1N3UX73inpYeCdQjKqrO1F3Rq4KGKqzULHTv6h6N8qtMCsHz8NmZdGFtyVWPEPlXfIFSAFjRRyBRLd3XRbPOfP0ME%2F7s2%2BV0iNC9ZtoTIQlMOgwk1%2BZdTe8geSBax2g8Z0bsiQ0MONCTezYWQZkwMsNrII0c4TKrEfM2vGV4HkQQ%3D%3D%7Ctkp%3ABFBMuNb40-Jh&LH_ItemCondition=1000'\n",
    "\n",
    "Amazon_URL='https://www.amazon.com/SAMSUNG-Smartphone-Unlocked-Brightest-Processor/dp/B09MVYMR79/ref=sr_1_1_sspa?keywords=SAMSUNG%2BGalaxy%2BS22%2Bultra&sr=8-1-spons&spLa=ZW5jcnlwdGVkUXVhbGlmaWVyPUExRzg4OUVES0tPWEo0JmVuY3J5cHRlZElkPUEwOTIwNDIwUVJFMkpMUFc2SDE0JmVuY3J5cHRlZEFkSWQ9QTA5NzQzNTIzT0tNM0pTRzg2WDQ0JndpZGdldE5hbWU9c3BfYXRmJmFjdGlvbj1jbGlja1JlZGlyZWN0JmRvTm90TG9nQ2xpY2s9dHJ1ZQ&th=1'\n",
    "\n",
    "headers = {\"User-Agent\": \"Mozilla/5.0 (Windows NT 10.0; Win64; x64) AppleWebKit/537.36 (KHTML, like Gecko) Chrome/78.0.3904.108 Safari/537.36\", \"Accept-Encoding\":\"gzip, deflate\", \"Accept\":\"text/html,application/xhtml+xml,application/xml;q=0.9,*/*;q=0.8\", \"DNT\":\"1\",\"Connection\":\"close\", \"Upgrade-Insecure-Requests\":\"1\"}\n",
    "\n",
    "\n",
    "\n",
    "\n",
    "\n",
    "\n",
    "\n",
    "\n",
    "\n",
    "page=requests.get(Amazon_URL,headers=headers)\n",
    "\n",
    "Soup1=BeautifulSoup(page.content,\"html.parser\")\n",
    "\n",
    "Soup2=BeautifulSoup(Soup1.prettify(),\"html.parser\")\n",
    "\n",
    "Amazon_title=Soup2.find(id='productTitle').get_text()\n",
    "\n",
    "Amazon_price=Soup2.find(class_='a-price-whole').get_text()\n",
    "\n",
    "\n",
    "print(' \\033[1mProduct Title On Amazon:\\033[0m ',Amazon_title)\n",
    "print('\\033[1mPrice On Amazon:\\033[0m',Amazon_price)\n",
    "\n",
    "\n",
    "\n",
    "page=requests.get(ebay_URL,headers=headers)\n",
    "\n",
    "Soup3=BeautifulSoup(page.content,\"html.parser\")\n",
    "\n",
    "Soup4=BeautifulSoup(Soup3.prettify(),\"html.parser\")\n",
    "\n",
    "ebay_title=Soup4.find( class_='x-item-title__mainTitle').get_text()\n",
    "\n",
    "ebay_price=Soup4.find(class_='ux-textspans ux-textspans--SECONDARY ux-textspans--BOLD').get_text()\n",
    "\n",
    "\n",
    "print('\\033[1mProduct Title On eBay:\\033[0m',ebay_title)\n",
    "print('\\033[1mPrice On eBay:\\033[0m',ebay_price)"
   ]
  },
  {
   "cell_type": "code",
   "execution_count": 6,
   "id": "3ac61d66",
   "metadata": {},
   "outputs": [
    {
     "name": "stdout",
     "output_type": "stream",
     "text": [
      " \u001b[1mProduct Title On Amazon:\u001b[0m SAMSUNG Galaxy S22 Ultra Cell Phone, Factory Unlocked Android Smartphone, 512GB, 8K Camera & Video, Brightest Display Screen, S Pen, Long Battery Life, Fast 4nm Processor, US Version, Phantom White\n",
      "\u001b[1mPrice On Amazon:\u001b[0m  1,259\n",
      "                          \n",
      "                           .\n",
      "\u001b[1mProduct Title On eBay:\u001b[0m  Samsung Galaxy S22 Ultra SM-S908B/DS 512gb ✅\n",
      " \u001b[1mPrice On eBay:\u001b[0m US $1,369.47\n"
     ]
    }
   ],
   "source": [
    "#cleaning the code\n",
    "\n",
    "\n",
    "\n",
    "print(' \\033[1mProduct Title On Amazon:\\033[0m', Amazon_title.strip())\n",
    "print('\\033[1mPrice On Amazon:\\033[0m ', Amazon_price.strip())\n",
    "\n",
    "print('\\033[1mProduct Title On eBay:\\033[0m ', ebay_title.strip())\n",
    "print(' \\033[1mPrice On eBay:\\033[0m', ebay_price.strip())\n",
    "\n"
   ]
  },
  {
   "cell_type": "code",
   "execution_count": 7,
   "id": "959dffd9",
   "metadata": {},
   "outputs": [
    {
     "name": "stdout",
     "output_type": "stream",
     "text": [
      "2023-03-25\n"
     ]
    }
   ],
   "source": [
    "import datetime\n",
    "today=datetime.date.today()\n",
    "print(today)\n"
   ]
  },
  {
   "cell_type": "code",
   "execution_count": 8,
   "id": "57435977",
   "metadata": {},
   "outputs": [],
   "source": [
    "# Create CSV and write headers and data into the file for Amazon Product\n",
    "\n",
    "import csv \n",
    "import os\n",
    "\n",
    "header = ['Amazon Title','Amazon Price','ebay Title','ebay Price','Date']\n",
    "data = [Amazon_title, Amazon_price,ebay_title, ebay_price,today]\n",
    "\n",
    "file_path = r'C:\\Users\\Dossani\\AmazonWebSraping1.csv'  # use raw string to ignore backslash escape sequences\n",
    "file_path = os.path.normpath(file_path)  # normalize the file path to use the correct directory separators\n",
    "\n",
    "with open(file_path, 'w', newline='', encoding='UTF8') as f:\n",
    "    writer = csv.writer(f)\n",
    "    writer.writerow(header)\n",
    "    writer.writerow(data)\n"
   ]
  },
  {
   "cell_type": "code",
   "execution_count": 9,
   "id": "26eab07e",
   "metadata": {},
   "outputs": [],
   "source": [
    "#now we're appending data to the csv for amazon\n",
    "\n",
    "with open('AmazonWebSraping1.csv', 'a+', newline='', encoding='UTF8') as f:\n",
    "    writer = csv.writer(f)\n",
    "    writer.writerow(data)\n",
    "    "
   ]
  },
  {
   "cell_type": "code",
   "execution_count": 17,
   "id": "24b77890",
   "metadata": {},
   "outputs": [],
   "source": [
    "import requests\n",
    "from bs4 import BeautifulSoup\n",
    "import csv\n",
    "import os\n",
    "import datetime\n",
    "\n",
    "def check_price():\n",
    "    \n",
    "\n",
    "    ebay_URL='https://www.ebay.com/itm/234914529377?epid=27052277380&hash=item36b1ff4061%3Ag%3A6OEAAOSwIOpj%7ETp6&amdata=enc%3AAQAHAAAA8PJpJUpkOfUVBiLGNGnM%2FyXaGh6oWEz78Z4zgaByUybf%2FMD4pIqp8zFUc6%2BLAnfZh4pZS2Jk6ucQsOeXKIuOXkoyHK9Fcjl6DtYyZQ%2Bg07x9ytsQLRaC4X9xpys2tDvrkY3xaPOQje9Y7JQxij6x7N1N3UX73inpYeCdQjKqrO1F3Rq4KGKqzULHTv6h6N8qtMCsHz8NmZdGFtyVWPEPlXfIFSAFjRRyBRLd3XRbPOfP0ME%2F7s2%2BV0iNC9ZtoTIQlMOgwk1%2BZdTe8geSBax2g8Z0bsiQ0MONCTezYWQZkwMsNrII0c4TKrEfM2vGV4HkQQ%3D%3D%7Ctkp%3ABFBMuNb40-Jh&LH_ItemCondition=1000'\n",
    "\n",
    "    Amazon_URL='https://www.amazon.com/SAMSUNG-Smartphone-Unlocked-Brightest-Processor/dp/B09MVYMR79/ref=sr_1_1_sspa?keywords=SAMSUNG%2BGalaxy%2BS22%2Bultra&sr=8-1-spons&spLa=ZW5jcnlwdGVkUXVhbGlmaWVyPUExRzg4OUVES0tPWEo0JmVuY3J5cHRlZElkPUEwOTIwNDIwUVJFMkpMUFc2SDE0JmVuY3J5cHRlZEFkSWQ9QTA5NzQzNTIzT0tNM0pTRzg2WDQ0JndpZGdldE5hbWU9c3BfYXRmJmFjdGlvbj1jbGlja1JlZGlyZWN0JmRvTm90TG9nQ2xpY2s9dHJ1ZQ&th=1'\n",
    "\n",
    "    headers = {\"User-Agent\": \"Mozilla/5.0 (Windows NT 10.0; Win64; x64) AppleWebKit/537.36 (KHTML, like Gecko) Chrome/78.0.3904.108 Safari/537.36\", \"Accept-Encoding\":\"gzip, deflate\", \"Accept\":\"text/html,application/xhtml+xml,application/xml;q=0.9,*/*;q=0.8\", \"DNT\":\"1\",\"Connection\":\"close\", \"Upgrade-Insecure-Requests\":\"1\"}\n",
    "\n",
    "    page=requests.get(Amazon_URL,headers=headers)\n",
    "\n",
    "    Soup1=BeautifulSoup(page.content,\"html.parser\")\n",
    "\n",
    "    Soup2=BeautifulSoup(Soup1.prettify(),\"html.parser\")\n",
    "\n",
    "    Amazon_title=Soup2.find(id='productTitle').get_text()\n",
    "\n",
    "    Amazon_price=Soup2.find(class_='a-price-whole').get_text()\n",
    "\n",
    "\n",
    "\n",
    "\n",
    "    page=requests.get(ebay_URL,headers=headers)\n",
    "\n",
    "    Soup3=BeautifulSoup(page.content,\"html.parser\")\n",
    "\n",
    "    Soup4=BeautifulSoup(Soup3.prettify(),\"html.parser\")\n",
    "\n",
    "    ebay_title=Soup4.find( class_='x-item-title__mainTitle').get_text()\n",
    "\n",
    "    ebay_price=Soup4.find(class_='ux-textspans ux-textspans--SECONDARY ux-textspans--BOLD').get_text()\n",
    "\n",
    "\n",
    "\n",
    "    Amazon_price.strip()[1:]\n",
    "\n",
    "    Amazon_title.strip()\n",
    "\n",
    "\n",
    "    ebay_price.strip()[1:]\n",
    "\n",
    "    ebay_title.strip()\n",
    "\n",
    "   \n",
    "    today=datetime.date.today()\n",
    "\n",
    "\n",
    "\n",
    "# Create CSV and write headers and data into the file for Amazon Product\n",
    "\n",
    "\n",
    "    header = ['Amazon Title','Amazon Price','ebay Title','ebay Price','Date']\n",
    "    data = [Amazon_title, Amazon_price,ebay_title, ebay_price,today]\n",
    "\n",
    "\n",
    "\n"
   ]
  },
  {
   "cell_type": "code",
   "execution_count": null,
   "id": "e434b84c",
   "metadata": {},
   "outputs": [],
   "source": [
    "# Runs check_price after a set time and inputs data into your CSV\n",
    "\n",
    "while(True):\n",
    "    check_price()\n",
    "    time.sleep(86400)"
   ]
  },
  {
   "cell_type": "code",
   "execution_count": 19,
   "id": "f6be3f34",
   "metadata": {},
   "outputs": [
    {
     "name": "stdout",
     "output_type": "stream",
     "text": [
      "                                        Amazon Title Amazon Price  \\\n",
      "0  SAMSUNG Galaxy S22 Ultra Cell Phone, Factory U...        1,259   \n",
      "\n",
      "                                          ebay Title  \\\n",
      "0  \\n\\n\\n\\n\\n\\n              Samsung Galaxy S22 U...   \n",
      "\n",
      "                                          ebay Price       Date  \n",
      "0  \\n\\n                     US $1,369.47\\n       ...  3/25/2023  \n"
     ]
    }
   ],
   "source": [
    "import pandas as pd\n",
    "df=pd.read_csv(r'C:\\Users\\Dossani\\AmazonWebSraping1.csv')\n",
    "print(df)"
   ]
  },
  {
   "cell_type": "code",
   "execution_count": null,
   "id": "e9d057d7",
   "metadata": {},
   "outputs": [],
   "source": [
    "# If uou want to try sending yourself an email (just for fun) when a price hits below a certain level you can try it\n",
    "# out with this script\n",
    "\n",
    "def send_mail():\n",
    "    server = smtplib.SMTP_SSL('smtp.gmail.com',465)\n",
    "    server.ehlo()\n",
    "    #server.starttls()\n",
    "    server.ehlo()\n",
    "    server.login('emankamal059@gmail.com','xxxxxxxxxxxxxxx')\n",
    "    \n",
    "    subject = \"The Shirt you want is below $15! Now is your chance to buy!\"\n",
    "    body = \"Emaan, This is the moment we have been waiting for. Now is your chance to pick up the shirt of your dreams. Don't mess it up! Link here:https://www.amazon.com/Data-Analyst-T-Shirt-Male-Boss/dp/B09T5BKPS3/ref=sr_1_1?keywords=data%2Banalyst%2Btshirt&sr=8-1\"\n",
    "   \n",
    "    msg = f\"Subject: {subject}\\n\\n{body}\"\n",
    "    \n",
    "    server.sendmail(\n",
    "        'emankamal059@gmail.com',\n",
    "        msg\n",
    "     \n",
    "    )"
   ]
  },
  {
   "cell_type": "code",
   "execution_count": 10,
   "id": "05afb420",
   "metadata": {},
   "outputs": [
    {
     "name": "stdout",
     "output_type": "stream",
     "text": [
      "                                        Amazon Title  \\\n",
      "0  SAMSUNG Galaxy S22 Ultra Cell Phone, Factory U...   \n",
      "\n",
      "                                        Amazon Price  \\\n",
      "0  \\n                          1,259\\n           ...   \n",
      "\n",
      "                                          ebay Title  \\\n",
      "0  \\n\\n\\n\\n\\n\\n              Samsung Galaxy S22 U...   \n",
      "\n",
      "                                          ebay Price       Date  \n",
      "0  \\n\\n                     US $1,369.47\\n       ...  3/25/2023  \n"
     ]
    }
   ],
   "source": []
  },
  {
   "cell_type": "code",
   "execution_count": null,
   "id": "cdef7d1d",
   "metadata": {},
   "outputs": [],
   "source": []
  }
 ],
 "metadata": {
  "kernelspec": {
   "display_name": "Python 3 (ipykernel)",
   "language": "python",
   "name": "python3"
  },
  "language_info": {
   "codemirror_mode": {
    "name": "ipython",
    "version": 3
   },
   "file_extension": ".py",
   "mimetype": "text/x-python",
   "name": "python",
   "nbconvert_exporter": "python",
   "pygments_lexer": "ipython3",
   "version": "3.10.9"
  }
 },
 "nbformat": 4,
 "nbformat_minor": 5
}
