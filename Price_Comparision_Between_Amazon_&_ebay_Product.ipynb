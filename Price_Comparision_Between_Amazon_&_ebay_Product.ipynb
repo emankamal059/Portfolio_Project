{
 "cells": [
  {
   "cell_type": "code",
   "execution_count": 62,
   "id": "f901b5e6",
   "metadata": {},
   "outputs": [
    {
     "name": "stdout",
     "output_type": "stream",
     "text": [
      "2023-03-25\n"
     ]
    }
   ],
   "source": [
    "import datetime\n",
    "today=datetime.date.today()\n",
    "print(today)"
   ]
  },
  {
   "cell_type": "code",
   "execution_count": 2,
   "id": "c2671081",
   "metadata": {},
   "outputs": [],
   "source": [
    "from bs4 import BeautifulSoup\n",
    "import requests\n",
    "\n",
    "import time \n",
    "import datetime\n",
    "\n",
    "import smtplib"
   ]
  },
  {
   "cell_type": "code",
   "execution_count": 43,
   "id": "07fd47f5",
   "metadata": {},
   "outputs": [
    {
     "name": "stdout",
     "output_type": "stream",
     "text": [
      " \u001b[1mProduct Title On Amazon:\u001b[0m  \n",
      "            SAMSUNG Galaxy S22 Ultra Cell Phone, Factory Unlocked Android Smartphone, 512GB, 8K Camera & Video, Brightest Display Screen, S Pen, Long Battery Life, Fast 4nm Processor, US Version, Phantom White\n",
      "           \n",
      "\u001b[1mPrice On Amazon:\u001b[0m \n",
      "                          1,259\n",
      "                          \n",
      "                           .\n",
      "                          \n",
      "\n",
      "\u001b[1mProduct Title On eBay:\u001b[0m \n",
      "\n",
      "\n",
      "\n",
      "\n",
      "\n",
      "              Samsung Galaxy S22 Ultra SM-S908B/DS 512gb ✅\n",
      "              \n",
      "\n",
      "\n",
      "\n",
      "\n",
      "\n",
      "\u001b[1mPrice On eBay:\u001b[0m \n",
      "\n",
      "                     US $1,380.00\n",
      "                     \n",
      "\n"
     ]
    }
   ],
   "source": [
    "ebay_URL='https://www.ebay.com/itm/234914529377?epid=27052277380&hash=item36b1ff4061%3Ag%3A6OEAAOSwIOpj%7ETp6&amdata=enc%3AAQAHAAAA8PJpJUpkOfUVBiLGNGnM%2FyXaGh6oWEz78Z4zgaByUybf%2FMD4pIqp8zFUc6%2BLAnfZh4pZS2Jk6ucQsOeXKIuOXkoyHK9Fcjl6DtYyZQ%2Bg07x9ytsQLRaC4X9xpys2tDvrkY3xaPOQje9Y7JQxij6x7N1N3UX73inpYeCdQjKqrO1F3Rq4KGKqzULHTv6h6N8qtMCsHz8NmZdGFtyVWPEPlXfIFSAFjRRyBRLd3XRbPOfP0ME%2F7s2%2BV0iNC9ZtoTIQlMOgwk1%2BZdTe8geSBax2g8Z0bsiQ0MONCTezYWQZkwMsNrII0c4TKrEfM2vGV4HkQQ%3D%3D%7Ctkp%3ABFBMuNb40-Jh&LH_ItemCondition=1000'\n",
    "\n",
    "Amazon_URL='https://www.amazon.com/SAMSUNG-Smartphone-Unlocked-Brightest-Processor/dp/B09MVYMR79/ref=sr_1_1_sspa?keywords=SAMSUNG%2BGalaxy%2BS22%2Bultra&sr=8-1-spons&spLa=ZW5jcnlwdGVkUXVhbGlmaWVyPUExRzg4OUVES0tPWEo0JmVuY3J5cHRlZElkPUEwOTIwNDIwUVJFMkpMUFc2SDE0JmVuY3J5cHRlZEFkSWQ9QTA5NzQzNTIzT0tNM0pTRzg2WDQ0JndpZGdldE5hbWU9c3BfYXRmJmFjdGlvbj1jbGlja1JlZGlyZWN0JmRvTm90TG9nQ2xpY2s9dHJ1ZQ&th=1'\n",
    "\n",
    "headers = {\"User-Agent\": \"Mozilla/5.0 (Windows NT 10.0; Win64; x64) AppleWebKit/537.36 (KHTML, like Gecko) Chrome/78.0.3904.108 Safari/537.36\", \"Accept-Encoding\":\"gzip, deflate\", \"Accept\":\"text/html,application/xhtml+xml,application/xml;q=0.9,*/*;q=0.8\", \"DNT\":\"1\",\"Connection\":\"close\", \"Upgrade-Insecure-Requests\":\"1\"}\n",
    "\n",
    "\n",
    "\n",
    "\n",
    "\n",
    "\n",
    "\n",
    "\n",
    "\n",
    "page=requests.get(Amazon_URL,headers=headers)\n",
    "\n",
    "Soup1=BeautifulSoup(page.content,\"html.parser\")\n",
    "\n",
    "Soup2=BeautifulSoup(Soup1.prettify(),\"html.parser\")\n",
    "\n",
    "Amazon_title=Soup2.find(id='productTitle').get_text()\n",
    "\n",
    "Amazon_price=Soup2.find(class_='a-price-whole').get_text()\n",
    "\n",
    "\n",
    "print(' \\033[1mProduct Title On Amazon:\\033[0m ',Amazon_title)\n",
    "print('\\033[1mPrice On Amazon:\\033[0m',Amazon_price)\n",
    "\n",
    "\n",
    "\n",
    "page=requests.get(ebay_URL,headers=headers)\n",
    "\n",
    "Soup3=BeautifulSoup(page.content,\"html.parser\")\n",
    "\n",
    "Soup4=BeautifulSoup(Soup3.prettify(),\"html.parser\")\n",
    "\n",
    "ebay_title=Soup4.find( class_='x-item-title__mainTitle').get_text()\n",
    "\n",
    "ebay_price=Soup4.find(class_='ux-textspans ux-textspans--SECONDARY ux-textspans--BOLD').get_text()\n",
    "\n",
    "\n",
    "print('\\033[1mProduct Title On eBay:\\033[0m',ebay_title)\n",
    "print('\\033[1mPrice On eBay:\\033[0m',ebay_price)"
   ]
  },
  {
   "cell_type": "code",
   "execution_count": 42,
   "id": "6969b71c",
   "metadata": {},
   "outputs": [
    {
     "name": "stdout",
     "output_type": "stream",
     "text": [
      "\u001b[1mProduct Title On Amazon:\u001b[0m SAMSUNG Galaxy S22 Ultra Cell Phone, Factory Unlocked Android Smartphone, 512GB, 8K Camera & Video, Brightest Display Screen, S Pen, Long Battery Life, Fast 4nm Processor, US Version, Phantom White\n",
      "\u001b[1mPrice On Amazon:\u001b[0m 1,259\n",
      "                          \n",
      "                           .\n",
      "\u001b[1mProduct Title On eBay:\u001b[0m Samsung Galaxy S22 Ultra SM-S908B/DS 512gb ✅\n",
      "\u001b[1mPrice On eBay:\u001b[0m US $1,380.00\n"
     ]
    }
   ],
   "source": [
    "#cleaning the code\n",
    "\n",
    "\n",
    "\n",
    "print(' \\033[1mProduct Title On Amazon:\\033[0m', Amazon_title.strip())\n",
    "print('\\033[1mPrice On Amazon:\\033[0m ', Amazon_price.strip())\n",
    "\n",
    "print('\\033[1mProduct Title On eBay:\\033[0m ', ebay_title.strip())\n",
    "print(' \\033[1mPrice On eBay:\\033[0m', ebay_price.strip())\n",
    "\n"
   ]
  },
  {
   "cell_type": "code",
   "execution_count": 44,
   "id": "5b84a1f3",
   "metadata": {},
   "outputs": [
    {
     "name": "stdout",
     "output_type": "stream",
     "text": [
      "2023-03-25\n"
     ]
    }
   ],
   "source": [
    "import datetime\n",
    "today=datetime.date.today()\n",
    "print(today)\n"
   ]
  },
  {
   "cell_type": "code",
   "execution_count": 49,
   "id": "53f3ed1a",
   "metadata": {},
   "outputs": [],
   "source": [
    "# Create CSV and write headers and data into the file for Amazon Product\n",
    "\n",
    "import csv \n",
    "import os\n",
    "\n",
    "header = ['Amazon Title','Amazon Price','Date']\n",
    "data = [Amazon_title, Amazon_price,today]\n",
    "\n",
    "file_path = r'C:\\Users\\Dossani\\AmazonWebSraping.csv'  # use raw string to ignore backslash escape sequences\n",
    "file_path = os.path.normpath(file_path)  # normalize the file path to use the correct directory separators\n",
    "\n",
    "with open(file_path, 'w', newline='', encoding='UTF8') as f:\n",
    "    writer = csv.writer(f)\n",
    "    writer.writerow(header)\n",
    "    writer.writerow(data)"
   ]
  },
  {
   "cell_type": "code",
   "execution_count": 50,
   "id": "7d16bea9",
   "metadata": {},
   "outputs": [],
   "source": [
    "\n",
    "# Create CSV and write headers and data into the file for ebay Product\n",
    "\n",
    "import csv \n",
    "import os\n",
    "\n",
    "header = ['ebay Title','ebay Price','Date']\n",
    "data = [ebay_title, ebay_price,today]\n",
    "\n",
    "file_path = r'C:\\Users\\Dossani\\ebayWebSraping.csv'  # use raw string to ignore backslash escape sequences\n",
    "file_path = os.path.normpath(file_path)  # normalize the file path to use the correct directory separators\n",
    "\n",
    "with open(file_path, 'w', newline='', encoding='UTF8') as f:\n",
    "    writer = csv.writer(f)\n",
    "    writer.writerow(header)\n",
    "    writer.writerow(data)"
   ]
  },
  {
   "cell_type": "code",
   "execution_count": 51,
   "id": "688faafc",
   "metadata": {},
   "outputs": [],
   "source": [
    "#now we're appending data to the csv for amazon\n",
    "\n",
    "with open('AmazonWebSraping.csv', 'a+', newline='', encoding='UTF8') as f:\n",
    "    writer = csv.writer(f)\n",
    "    writer.writerow(data)\n",
    "    "
   ]
  },
  {
   "cell_type": "code",
   "execution_count": 52,
   "id": "f3279bb8",
   "metadata": {},
   "outputs": [],
   "source": [
    "#now we're appending data to the csv for ebay\n",
    "\n",
    "with open('ebayWebSraping.csv', 'a+', newline='', encoding='UTF8') as f:\n",
    "    writer = csv.writer(f)\n",
    "    writer.writerow(data)\n",
    "    "
   ]
  },
  {
   "cell_type": "code",
   "execution_count": 60,
   "id": "f68d1a80",
   "metadata": {},
   "outputs": [
    {
     "ename": "IndentationError",
     "evalue": "expected an indented block after function definition on line 1 (1435117706.py, line 4)",
     "output_type": "error",
     "traceback": [
      "\u001b[1;36m  Cell \u001b[1;32mIn[60], line 4\u001b[1;36m\u001b[0m\n\u001b[1;33m    ebay_URL ='https://www.ebay.com/itm/234914529377?epid=27052277380&hash=item36b1ff4061%3Ag%3A6OEAAOSwIOpj%7ETp6&amdata=enc%3AAQAHAAAA8PJpJUpkOfUVBiLGNGnM%2FyXaGh6oWEz78Z4zgaByUybf%2FMD4pIqp8zFUc6%2BLAnfZh4pZS2Jk6ucQsOeXKIuOXkoyHK9Fcjl6DtYyZQ%2Bg07x9ytsQLRaC4X9xpys2tDvrkY3xaPOQje9Y7JQxij6x7N1N3UX73inpYeCdQjKqrO1F3Rq4KGKqzULHTv6h6N8qtMCsHz8NmZdGFtyVWPEPlXfIFSAFjRRyBRLd3XRbPOfP0ME%2F7s2%2BV0iNC9ZtoTIQlMOgwk1%2BZdTe8geSBax2g8Z0bsiQ0MONCTezYWQZkwMsNrII0c4TKrEfM2vGV4HkQQ%3D%3D%7Ctkp%3ABFBMuNb40-Jh&LH_ItemCondition=1000'\u001b[0m\n\u001b[1;37m    ^\u001b[0m\n\u001b[1;31mIndentationError\u001b[0m\u001b[1;31m:\u001b[0m expected an indented block after function definition on line 1\n"
     ]
    }
   ],
   "source": [
    "def check_price():\n",
    "    \n",
    " \n",
    "ebay_URL ='https://www.ebay.com/itm/234914529377?epid=27052277380&hash=item36b1ff4061%3Ag%3A6OEAAOSwIOpj%7ETp6&amdata=enc%3AAQAHAAAA8PJpJUpkOfUVBiLGNGnM%2FyXaGh6oWEz78Z4zgaByUybf%2FMD4pIqp8zFUc6%2BLAnfZh4pZS2Jk6ucQsOeXKIuOXkoyHK9Fcjl6DtYyZQ%2Bg07x9ytsQLRaC4X9xpys2tDvrkY3xaPOQje9Y7JQxij6x7N1N3UX73inpYeCdQjKqrO1F3Rq4KGKqzULHTv6h6N8qtMCsHz8NmZdGFtyVWPEPlXfIFSAFjRRyBRLd3XRbPOfP0ME%2F7s2%2BV0iNC9ZtoTIQlMOgwk1%2BZdTe8geSBax2g8Z0bsiQ0MONCTezYWQZkwMsNrII0c4TKrEfM2vGV4HkQQ%3D%3D%7Ctkp%3ABFBMuNb40-Jh&LH_ItemCondition=1000'\n",
    "Amazon_URL='https://www.amazon.com/SAMSUNG-Smartphone-Unlocked-Brightest-Processor/dp/B09MVYMR79/ref=sr_1_1_sspa?keywords=SAMSUNG%2BGalaxy%2BS22%2Bultra&sr=8-1-spons&spLa=ZW5jcnlwdGVkUXVhbGlmaWVyPUExRzg4OUVES0tPWEo0JmVuY3J5cHRlZElkPUEwOTIwNDIwUVJFMkpMUFc2SDE0JmVuY3J5cHRlZEFkSWQ9QTA5NzQzNTIzT0tNM0pTRzg2WDQ0JndpZGdldE5hbWU9c3BfYXRmJmFjdGlvbj1jbGlja1JlZGlyZWN0JmRvTm90TG9nQ2xpY2s9dHJ1ZQ&th=1'\n",
    "\n",
    "headers = {\"User-Agent\": \"Mozilla/5.0 (Windows NT 10.0; Win64; x64) AppleWebKit/537.36 (KHTML, like Gecko) Chrome/78.0.3904.108 Safari/537.36\", \"Accept-Encoding\":\"gzip, deflate\", \"Accept\":\"text/html,application/xhtml+xml,application/xml;q=0.9,*/*;q=0.8\", \"DNT\":\"1\",\"Connection\":\"close\", \"Upgrade-Insecure-Requests\":\"1\"}\n",
    "\n",
    "page=requests.get(Amazon_URL,headers=headers)\n",
    "\n",
    "Soup1=BeautifulSoup(page.content,\"html.parser\")\n",
    "\n",
    "Soup2=BeautifulSoup(Soup1.prettify(),\"html.parser\")\n",
    "\n",
    "Amazon_title=Soup2.find(id='productTitle').get_text()\n",
    "\n",
    "Amazon_price=Soup2.find(class_='a-price-whole').get_text()\n",
    "\n",
    "\n",
    "page=requests.get(ebay_URL,headers=headers)\n",
    "\n",
    "Soup3=BeautifulSoup(page.content,\"html.parser\")\n",
    "\n",
    "Soup4=BeautifulSoup(Soup3.prettify(),\"html.parser\")\n",
    "\n",
    "ebay_title=Soup4.find( class_='x-item-title__mainTitle').get_text()\n",
    "\n",
    "ebay_price=Soup4.find(class_='ux-textspans ux-textspans--SECONDARY ux-textspans--BOLD').get_text()\n",
    "\n",
    "\n",
    "#cleaning the code\n",
    "\n",
    "\n",
    "\n",
    "print(' \\033[1mProduct Title On Amazon:\\033[0m', Amazon_title.strip())\n",
    "print('\\033[1mPrice On Amazon:\\033[0m ', Amazon_price.strip())\n",
    "\n",
    "print('\\033[1mProduct Title On eBay:\\033[0m ', ebay_title.strip())\n",
    "print(' \\033[1mPrice On eBay:\\033[0m', ebay_price.strip())\n",
    "\n",
    "\n",
    "\n",
    "import datetime\n",
    "today=datetime.date.today()\n",
    "\n",
    "\n",
    "# Create CSV and write headers and data into the file for Amazon Product\n",
    "\n",
    "import csv \n",
    "import os\n",
    "\n",
    "header = ['Amazon Title','Amazon Price','Date']\n",
    "data = [Amazon_title, Amazon_price,today]\n",
    "\n",
    "file_path = r'C:\\Users\\Dossani\\AmazonWebSraping.csv'  # use raw string to ignore backslash escape sequences\n",
    "file_path = os.path.normpath(file_path)  # normalize the file path to use the correct directory separators\n",
    "\n",
    "with open(file_path, 'w', newline='', encoding='UTF8') as f:\n",
    "    writer = csv.writer(f)\n",
    "    writer.writerow(header)\n",
    "    writer.writerow(data)\n",
    "    \n",
    "    \n",
    "    \n",
    "    # Create CSV and write headers and data into the file for ebay Product\n",
    "\n",
    "import csv \n",
    "import os\n",
    "\n",
    "header = ['ebay Title','ebay Price','Date']\n",
    "data = [ebay_title, ebay_price,today]\n",
    "\n",
    "file_path = r'C:\\Users\\Dossani\\ebayWebSraping.csv'  # use raw string to ignore backslash escape sequences\n",
    "file_path = os.path.normpath(file_path)  # normalize the file path to use the correct directory separators\n",
    "\n",
    "with open(file_path, 'w', newline='', encoding='UTF8') as f1:\n",
    "    writer = csv.writer(f1)\n",
    "    writer.writerow(header)\n",
    "    writer.writerow(data)"
   ]
  },
  {
   "cell_type": "code",
   "execution_count": 58,
   "id": "80483b1b",
   "metadata": {},
   "outputs": [
    {
     "ename": "NameError",
     "evalue": "name 'check_price' is not defined",
     "output_type": "error",
     "traceback": [
      "\u001b[1;31m---------------------------------------------------------------------------\u001b[0m",
      "\u001b[1;31mNameError\u001b[0m                                 Traceback (most recent call last)",
      "Cell \u001b[1;32mIn[58], line 4\u001b[0m\n\u001b[0;32m      1\u001b[0m \u001b[38;5;66;03m# Runs check_price after a set time and inputs data into your CSV\u001b[39;00m\n\u001b[0;32m      3\u001b[0m \u001b[38;5;28;01mwhile\u001b[39;00m(\u001b[38;5;28;01mTrue\u001b[39;00m):\n\u001b[1;32m----> 4\u001b[0m     \u001b[43mcheck_price\u001b[49m()\n\u001b[0;32m      5\u001b[0m     time\u001b[38;5;241m.\u001b[39msleep(\u001b[38;5;241m86400\u001b[39m)\n",
      "\u001b[1;31mNameError\u001b[0m: name 'check_price' is not defined"
     ]
    }
   ],
   "source": [
    "# Runs check_price after a set time and inputs data into your CSV\n",
    "\n",
    "while(True):\n",
    "    check_price()\n",
    "    time.sleep(86400)"
   ]
  },
  {
   "cell_type": "code",
   "execution_count": 61,
   "id": "0eb6f255",
   "metadata": {},
   "outputs": [
    {
     "name": "stdout",
     "output_type": "stream",
     "text": [
      "                                        Amazon Title  \\\n",
      "0  SAMSUNG Galaxy S22 Ultra Cell Phone, Factory U...   \n",
      "\n",
      "                                        Amazon Price       Date  \n",
      "0  \\n                          1,259\\n           ...  3/25/2023  \n"
     ]
    }
   ],
   "source": [
    "import pandas as pd\n",
    "df=pd.read_csv(r'C:\\Users\\Dossani\\AmazonWebSraping.csv')\n",
    "print(df)"
   ]
  },
  {
   "cell_type": "code",
   "execution_count": null,
   "id": "bfbd6252",
   "metadata": {},
   "outputs": [],
   "source": []
  }
 ],
 "metadata": {
  "kernelspec": {
   "display_name": "Python 3 (ipykernel)",
   "language": "python",
   "name": "python3"
  },
  "language_info": {
   "codemirror_mode": {
    "name": "ipython",
    "version": 3
   },
   "file_extension": ".py",
   "mimetype": "text/x-python",
   "name": "python",
   "nbconvert_exporter": "python",
   "pygments_lexer": "ipython3",
   "version": "3.10.9"
  }
 },
 "nbformat": 4,
 "nbformat_minor": 5
}
