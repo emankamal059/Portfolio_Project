{
 "cells": [
  {
   "cell_type": "code",
   "execution_count": 5,
   "metadata": {},
   "outputs": [],
   "source": [
    "from bs4 import BeautifulSoup\n",
    "import requests\n",
    "\n"
   ]
  },
  {
   "cell_type": "code",
   "execution_count": 8,
   "metadata": {},
   "outputs": [
    {
     "name": "stdout",
     "output_type": "stream",
     "text": [
      "\u001b[1mProduct Title On eBay:\u001b[0m \n",
      "\n",
      "\n",
      "\n",
      "\n",
      "\n",
      "              Samsung Galaxy S22 Ultra SM-S908B/DS 512gb ✅\n",
      "              \n",
      "\n",
      "\n",
      "\n",
      "\n",
      "\n",
      "\u001b[1mPrice On eBay:\u001b[0m \n",
      "\n",
      "                     US $1,369.47\n",
      "                     \n",
      "\n"
     ]
    }
   ],
   "source": [
    "ebay_URL='https://www.ebay.com/itm/234914529377?epid=27052277380&hash=item36b1ff4061%3Ag%3A6OEAAOSwIOpj%7ETp6&amdata=enc%3AAQAHAAAA8PJpJUpkOfUVBiLGNGnM%2FyXaGh6oWEz78Z4zgaByUybf%2FMD4pIqp8zFUc6%2BLAnfZh4pZS2Jk6ucQsOeXKIuOXkoyHK9Fcjl6DtYyZQ%2Bg07x9ytsQLRaC4X9xpys2tDvrkY3xaPOQje9Y7JQxij6x7N1N3UX73inpYeCdQjKqrO1F3Rq4KGKqzULHTv6h6N8qtMCsHz8NmZdGFtyVWPEPlXfIFSAFjRRyBRLd3XRbPOfP0ME%2F7s2%2BV0iNC9ZtoTIQlMOgwk1%2BZdTe8geSBax2g8Z0bsiQ0MONCTezYWQZkwMsNrII0c4TKrEfM2vGV4HkQQ%3D%3D%7Ctkp%3ABFBMuNb40-Jh&LH_ItemCondition=1000'\n",
    "\n",
    "amazon_URL='https://www.amazon.com/SAMSUNG-Smartphone-Unlocked-Brightest-Processor/dp/B09MVYMR79/ref=sr_1_1_sspa?keywords=SAMSUNG%2BGalaxy%2BS22%2Bultra&sr=8-1-spons&spLa=ZW5jcnlwdGVkUXVhbGlmaWVyPUExRzg4OUVES0tPWEo0JmVuY3J5cHRlZElkPUEwOTIwNDIwUVJFMkpMUFc2SDE0JmVuY3J5cHRlZEFkSWQ9QTA5NzQzNTIzT0tNM0pTRzg2WDQ0JndpZGdldE5hbWU9c3BfYXRmJmFjdGlvbj1jbGlja1JlZGlyZWN0JmRvTm90TG9nQ2xpY2s9dHJ1ZQ&th=1'\n",
    "\n",
    "headers = {\"User-Agent\": \"Mozilla/5.0 (Windows NT 10.0; Win64; x64) AppleWebKit/537.36 (KHTML, like Gecko) Chrome/78.0.3904.108 Safari/537.36\", \"Accept-Encoding\":\"gzip, deflate\", \"Accept\":\"text/html,application/xhtml+xml,application/xml;q=0.9,*/*;q=0.8\", \"DNT\":\"1\",\"Connection\":\"close\", \"Upgrade-Insecure-Requests\":\"1\"}\n",
    "\n",
    "page=requests.get(amazon_URL,headers=headers)\n",
    "\n",
    "Soup1=BeautifulSoup(page.content,\"html.parser\")\n",
    "\n",
    "Soup2=BeautifulSoup(Soup1.prettify(),\"html.parser\")\n",
    "\n",
    "amazon_Title=Soup2.find(id = 'productTitle').get_text()\n",
    "\n",
    "amazon_Price=Soup2.find(class_ = 'a-price-whole').get_text()\n",
    "\n",
    "\n",
    "\n",
    "page=requests.get(ebay_URL,headers=headers)\n",
    "\n",
    "Soup3=BeautifulSoup(page.content,\"html.parser\")\n",
    "\n",
    "Soup4=BeautifulSoup(Soup3.prettify(),\"html.parser\")\n",
    "\n",
    "ebay_Title=Soup4.find( class_='x-item-title__mainTitle').get_text()\n",
    "\n",
    "ebay_Price=Soup4.find(class_='ux-textspans ux-textspans--SECONDARY ux-textspans--BOLD').get_text()\n",
    "\n",
    "\n",
    "print('\\033[1mProduct Title On eBay:\\033[0m',ebay_Title)\n",
    "print('\\033[1mPrice On eBay:\\033[0m',ebay_Price)"
   ]
  },
  {
   "cell_type": "code",
   "execution_count": 9,
   "metadata": {},
   "outputs": [
    {
     "name": "stdout",
     "output_type": "stream",
     "text": [
      " \u001b[1mProduct Title On Amazon:\u001b[0m  \n",
      "            SAMSUNG Galaxy S22 Ultra Cell Phone, Factory Unlocked Android Smartphone, 512GB, 8K Camera & Video, Brightest Display Screen, S Pen, Long Battery Life, Fast 4nm Processor, US Version, Phantom White\n",
      "           \n",
      "\u001b[1mPrice On Amazon:\u001b[0m \n",
      "                          1,259\n",
      "                          \n",
      "                           .\n",
      "                          \n",
      "\n"
     ]
    }
   ],
   "source": [
    "\n",
    "print(' \\033[1mProduct Title On Amazon:\\033[0m ',amazon_Title)\n",
    "print('\\033[1mPrice On Amazon:\\033[0m',amazon_Price)\n",
    "\n"
   ]
  },
  {
   "cell_type": "code",
   "execution_count": 7,
   "metadata": {},
   "outputs": [
    {
     "name": "stdout",
     "output_type": "stream",
     "text": [
      " \u001b[1mProduct Title On Amazon:\u001b[0m SAMSUNG Galaxy S22 Ultra Cell Phone, Factory Unlocked Android Smartphone, 512GB, 8K Camera & Video, Brightest Display Screen, S Pen, Long Battery Life, Fast 4nm Processor, US Version, Phantom White\n",
      "\u001b[1mPrice On Amazon:\u001b[0m  1,259\n",
      "                          \n",
      "                           .\n",
      "\u001b[1mProduct Title On eBay:\u001b[0m  Samsung Galaxy S22 Ultra SM-S908B/DS 512gb ✅\n",
      " \u001b[1mPrice On eBay:\u001b[0m US $1,369.47\n"
     ]
    }
   ],
   "source": [
    "#cleaning the code\n",
    "\n",
    "\n",
    "\n",
    "print(' \\033[1mProduct Title On Amazon:\\033[0m', amazon_Title.strip())\n",
    "print('\\033[1mPrice On Amazon:\\033[0m ', amazon_Price.strip())\n",
    "\n",
    "print('\\033[1mProduct Title On eBay:\\033[0m ', ebay_Title.strip())\n",
    "print(' \\033[1mPrice On eBay:\\033[0m', ebay_Price.strip())\n",
    "\n"
   ]
  },
  {
   "cell_type": "code",
   "execution_count": 8,
   "metadata": {},
   "outputs": [],
   "source": [
    "#Storing Data \n",
    "\n",
    "import pickle\n",
    "def storeData():\n",
    "   # initializing data to be stored in db\n",
    "    amazon = {'key' : 'amazon', 'amazon_Title' : 'SAMSUNG Galaxy S22 Ultra Cell Phone, Factory Unlocked Android Smartphone, 512GB, 8K Camera & Video, Brightest Display Screen, S Pen, Long Battery Life, Fast 4nm Processor, US Version, Phantom White', 'amazon_Price' : amazon_Price}\n",
    "    ebay = {'key' : 'ebay', 'ebay_Title' : 'Samsung Galaxy S22 Ultra SM-S908B/DS 512gb ✅', 'ebay_Price' : ebay_Price}\n",
    "\n",
    "   # database\n",
    "    db = {}\n",
    "    db['amazon'] = amazon\n",
    "    db['ebay'] = ebay\n",
    "\n",
    "    \n",
    "   # Its important to use binary mode\n",
    "    dbfile = open('price_data', 'ab')\n",
    "    \n",
    "   # source, destination\n",
    "    pickle.dump(db, dbfile)                    \n",
    "    dbfile.close()"
   ]
  },
  {
   "cell_type": "code",
   "execution_count": 9,
   "metadata": {},
   "outputs": [],
   "source": [
    "#Loading Stored Data\n",
    "def read_data():\n",
    "    dbfile = open('price_data', 'rb')    \n",
    "    sb_store = pickle.load(dbfile)\n",
    "    for items in db_store:\n",
    "        print(items, ' :: ', db[items])\n",
    "    dbfile.close()"
   ]
  },
  {
   "cell_type": "code",
   "execution_count": 10,
   "metadata": {},
   "outputs": [
    {
     "name": "stdout",
     "output_type": "stream",
     "text": [
      "1259.0\n",
      "1369.47\n"
     ]
    }
   ],
   "source": [
    "#converting string value to float\n",
    "amazon_Price = \"1259\"\n",
    "ebay_Price = \"1369.47\"\n",
    "\n",
    "amazon_Price_float = float(amazon_Price)\n",
    "ebay_Price_float = float(ebay_Price)\n",
    "\n",
    "print(amazon_Price_float)\n",
    "print(ebay_Price_float)\n"
   ]
  },
  {
   "cell_type": "code",
   "execution_count": 3,
   "metadata": {},
   "outputs": [],
   "source": [
    "# If uou want to try sending yourself an email (just for fun) when a price hits below a certain level you can try it\n",
    "# out with this script\n",
    "\n",
    "def send_mail():\n",
    "    server = smtplib.SMTP_SSL('smtp.gmail.com',465)\n",
    "    server.ehlo()\n",
    "    #server.starttls()\n",
    "    server.ehlo()\n",
    "    server.login('emankamal059@gmail.com','xxxxxxxxxxxxxxx')\n",
    "    \n",
    "    subject = \"Samsung S22 you want is below $! Now is your chance to buy!\"\n",
    "    body = \"Emaan, This is the moment we have been waiting for. Now is your chance to pick up the shirt of your dreams. Don't mess it up! Link here:https://www.amazon.com/Data-Analyst-T-Shirt-Male-Boss/dp/B09T5BKPS3/ref=sr_1_1?keywords=data%2Banalyst%2Btshirt&sr=8-1\"\n",
    "   \n",
    "    msg = f\"Subject: {subject}\\n\\n{body}\"\n",
    "    \n",
    "    server.sendmail(\n",
    "        'emankamal059@gmail.com',\n",
    "        msg\n",
    "     \n",
    "    )\n"
   ]
  },
  {
   "cell_type": "code",
   "execution_count": 2,
   "metadata": {},
   "outputs": [],
   "source": []
  },
  {
   "cell_type": "code",
   "execution_count": 1,
   "metadata": {},
   "outputs": [
    {
     "name": "stdout",
     "output_type": "stream",
     "text": [
      "2023-03-29\n"
     ]
    }
   ],
   "source": []
  },
  {
   "cell_type": "code",
   "execution_count": null,
   "metadata": {},
   "outputs": [],
   "source": []
  }
 ],
 "metadata": {
  "kernelspec": {
   "display_name": "Python 3",
   "language": "python",
   "name": "python3"
  },
  "language_info": {
   "codemirror_mode": {
    "name": "ipython",
    "version": 3
   },
   "file_extension": ".py",
   "mimetype": "text/x-python",
   "name": "python",
   "nbconvert_exporter": "python",
   "pygments_lexer": "ipython3",
   "version": "3.6.5"
  }
 },
 "nbformat": 4,
 "nbformat_minor": 5
}
